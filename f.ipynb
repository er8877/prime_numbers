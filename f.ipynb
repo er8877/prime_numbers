{
 "cells": [
  {
   "cell_type": "code",
   "execution_count": 1,
   "metadata": {},
   "outputs": [],
   "source": [
    "\n",
    "from collections import Counter\n",
    "s = [0, 10, 56, 87, 45, 23]\n",
    "count = Counter(s)\n",
    "\n",
    "count.subtract((0, 10))"
   ]
  },
  {
   "cell_type": "code",
   "execution_count": 2,
   "metadata": {},
   "outputs": [
    {
     "data": {
      "text/plain": [
       "Counter({56: 1, 87: 1, 45: 1, 23: 1, 0: 0, 10: 0})"
      ]
     },
     "execution_count": 2,
     "metadata": {},
     "output_type": "execute_result"
    }
   ],
   "source": [
    "count"
   ]
  },
  {
   "cell_type": "code",
   "execution_count": 3,
   "metadata": {},
   "outputs": [
    {
     "data": {
      "text/plain": [
       "1"
      ]
     },
     "execution_count": 3,
     "metadata": {},
     "output_type": "execute_result"
    }
   ],
   "source": [
    "count[56]"
   ]
  },
  {
   "cell_type": "code",
   "execution_count": 4,
   "metadata": {},
   "outputs": [
    {
     "name": "stdout",
     "output_type": "stream",
     "text": [
      "2\n",
      "3\n",
      "5\n",
      "7\n",
      "11\n",
      "13\n",
      "17\n",
      "19\n",
      "23\n",
      " Number of prime numbers is :  9\n"
     ]
    }
   ],
   "source": [
    "import math\n",
    "\n",
    "n= int (input(\"Enter an Integer: \"))\n",
    "count = 0\n",
    "for j in range(2, n+1):\n",
    "    if all(j%i!=0 for i in range(2,int(math.sqrt(j))+1)):\n",
    "        print (j)\n",
    "        count = count + 1\n",
    "        \n",
    "print (\" Number of prime numbers is : \" , count)"
   ]
  },
  {
   "cell_type": "code",
   "execution_count": 6,
   "metadata": {},
   "outputs": [
    {
     "name": "stdout",
     "output_type": "stream",
     "text": [
      "isn't prime\n"
     ]
    }
   ],
   "source": [
    "n = int(input(\"enter : \"))\n",
    "\n",
    "n_list = []\n",
    "for k in range(1, n+1):\n",
    "    if n%k == 0:\n",
    "        n_list.append(k)\n",
    "\n",
    "if len(n_list) <= 2:\n",
    "    print(\"prime : \", n_list)\n",
    "else:\n",
    "    print(\"isn't prime\")\n",
    "    "
   ]
  }
 ],
 "metadata": {
  "kernelspec": {
   "display_name": "Python 3",
   "language": "python",
   "name": "python3"
  },
  "language_info": {
   "codemirror_mode": {
    "name": "ipython",
    "version": 3
   },
   "file_extension": ".py",
   "mimetype": "text/x-python",
   "name": "python",
   "nbconvert_exporter": "python",
   "pygments_lexer": "ipython3",
   "version": "3.11.7"
  }
 },
 "nbformat": 4,
 "nbformat_minor": 2
}
