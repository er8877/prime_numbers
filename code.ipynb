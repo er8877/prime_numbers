{
 "cells": [
  {
   "cell_type": "code",
   "execution_count": 2,
   "metadata": {},
   "outputs": [
    {
     "name": "stdout",
     "output_type": "stream",
     "text": [
      "Prime number :  [1, 5]\n",
      "2\n",
      "3\n",
      "5\n",
      " Number of prime numbers is :  3\n"
     ]
    }
   ],
   "source": [
    "import math\n",
    "\n",
    "def recognize_n(n):\n",
    "    counter = 0\n",
    "    nums = []\n",
    "    for i in range(1, n+1):\n",
    "        if n % i == 0:\n",
    "            nums.append(i)\n",
    "\n",
    "    if len(nums) <= 2:\n",
    "        return f\"Prime number :  {nums}\"\n",
    "    else:\n",
    "        return f\"This number isn't prime : {nums}\"\n",
    "\n",
    "\n",
    "def prime_nums_under(n):\n",
    "\n",
    "    count = 0\n",
    "    for j in range(2, n+1):\n",
    "        if all(j%i!=0 for i in range(2,int(math.sqrt(j))+1)):\n",
    "            print (j)\n",
    "            count = count + 1\n",
    "    return count\n",
    "\n",
    "\n",
    "num = int(input(\"enter your number : \"))\n",
    "\n",
    "print(recognize_n(num))\n",
    "print(\" Number of prime numbers is : \", prime_nums_under(num))"
   ]
  }
 ],
 "metadata": {
  "kernelspec": {
   "display_name": "Python 3",
   "language": "python",
   "name": "python3"
  },
  "language_info": {
   "codemirror_mode": {
    "name": "ipython",
    "version": 3
   },
   "file_extension": ".py",
   "mimetype": "text/x-python",
   "name": "python",
   "nbconvert_exporter": "python",
   "pygments_lexer": "ipython3",
   "version": "3.11.7"
  }
 },
 "nbformat": 4,
 "nbformat_minor": 2
}
